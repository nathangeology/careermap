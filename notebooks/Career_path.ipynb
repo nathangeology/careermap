{
 "cells": [
  {
   "cell_type": "markdown",
   "metadata": {},
   "source": [
    "# Career path\n",
    "\n",
    "Mapping career paths at TRANSFORM 2020."
   ]
  },
  {
   "cell_type": "markdown",
   "metadata": {},
   "source": [
    "We'll use a 'vocab' so that everyone uses more or less the same words... we'll do some fuzzy matching so we don't end up with 'undergrad' and 'undergraduate' as separate things."
   ]
  },
  {
   "cell_type": "code",
   "execution_count": 1,
   "metadata": {},
   "outputs": [],
   "source": [
    "# Apart from academic, it's mostly 'where you work', not 'what you do'.\n",
    "VOCAB = [\"student\", \"undergrad\", \"postgrad\", \"postdoc\", \"lecturer\", \"professor\", \"reader\", \"academic\",\n",
    "         \"megaservice\", \"service\", \"microservice\",\n",
    "         \"consultant\", \"sales\",\n",
    "         \"software\", \"technology\",\n",
    "         \"noc\", \"ioc\", \"independent\", \"exploration\", \"e&p\",\n",
    "         \"government\", \"agency\", \"localgov\",\n",
    "         \"mining\",\n",
    "         \"unemployed\", \"self-employed\", \"retired\",\n",
    "         \"startup\",\n",
    "         \"other\"\n",
    "        ]"
   ]
  },
  {
   "cell_type": "markdown",
   "metadata": {},
   "source": [
    "Some made up data, including probably 'variants' (missing numbers, misspellings, no spaces, etc.).\n",
    "\n",
    "The format is 'job' followed by a space then a number representing the number of years there. The records are separated by commas."
   ]
  },
  {
   "cell_type": "code",
   "execution_count": 2,
   "metadata": {},
   "outputs": [],
   "source": [
    "data = [\n",
    "    \"undergraduate 3, postgraduate 4, noc 3, software 4, consultant 1, ioc 5, microservice 10\",\n",
    "    \"undergrd 4, independent 5, startup 5, software 3\",\n",
    "    \"undergrad 3, service 3, postgrad 5, postdoc 3, ioc 5, professor 16, retired\",\n",
    "    \"undergrad 3, postgrad, postdoc 3, noc 4, professor 20, retired\",\n",
    "    \"undergrad 3, megaservice 5, software 3, unemployed 1, exploration 3, startup 1\",\n",
    "    \"undergrad 3,postgrad 2,postgrad 4,software 3,unemployed 1,exploration 3,startup 1\",\n",
    "    \"undergrad, postgrad, government,  mining, self-employed\"\n",
    "]"
   ]
  },
  {
   "cell_type": "markdown",
   "metadata": {},
   "source": [
    "## Parse data"
   ]
  },
  {
   "cell_type": "code",
   "execution_count": 3,
   "metadata": {},
   "outputs": [],
   "source": [
    "import difflib\n",
    "from datetime import datetime\n",
    "\n",
    "def store_entry(data):\n",
    "    \"\"\"\n",
    "    In the webapp, we'll record every single response 'raw' so we can process later.\n",
    "    \"\"\"\n",
    "    with open('log.txt', 'ta') as f:\n",
    "        d = datetime.utcnow().isoformat() + '\\t'\n",
    "        f.write(d + data + '\\n')\n",
    "    return 'Done'\n",
    "\n",
    "def get_path(record):\n",
    "    \"\"\"\n",
    "    Take a single response and turn it into a list of careers.\n",
    "    \n",
    "    Completely ignore the numbers for now.\n",
    "    \"\"\"\n",
    "    items = [tuple(i.strip().split()) for i in record.split(',')]\n",
    "    path = []\n",
    "    for pair in items:\n",
    "        m, = difflib.get_close_matches(pair[0], VOCAB, n=1, cutoff=0)\n",
    "        path.append(m)\n",
    "    return path"
   ]
  },
  {
   "cell_type": "code",
   "execution_count": 5,
   "metadata": {},
   "outputs": [],
   "source": [
    "# Just for the toy data.\n",
    "paths = []\n",
    "for record in data:\n",
    "    store_entry(record)\n",
    "    paths.append(get_path(record))"
   ]
  },
  {
   "cell_type": "markdown",
   "metadata": {},
   "source": [
    "Store as dict:"
   ]
  },
  {
   "cell_type": "code",
   "execution_count": 7,
   "metadata": {},
   "outputs": [],
   "source": [
    "from collections import defaultdict\n",
    "\n",
    "edge_dict = defaultdict(int)\n",
    "\n",
    "for path in paths:\n",
    "    for pair in [*zip(path[:-1], path[1:])]:\n",
    "        edge_dict[pair] += 1"
   ]
  },
  {
   "cell_type": "markdown",
   "metadata": {},
   "source": [
    "Use a Shelf:"
   ]
  },
  {
   "cell_type": "code",
   "execution_count": 8,
   "metadata": {},
   "outputs": [],
   "source": [
    "import shelve\n",
    "\n",
    "def store(path):\n",
    "    with shelve.open('edges') as db:\n",
    "        for pair in [*zip(path[:-1], path[1:])]:\n",
    "            count = db.get(','.join(pair), 0)\n",
    "            db[','.join(pair)] = count + 1\n",
    "    return"
   ]
  },
  {
   "cell_type": "markdown",
   "metadata": {},
   "source": [
    "## Make network"
   ]
  },
  {
   "cell_type": "code",
   "execution_count": 11,
   "metadata": {},
   "outputs": [],
   "source": [
    "import networkx as nx\n",
    "\n",
    "G = nx.Graph()\n",
    "\n",
    "G.add_nodes_from(VOCAB)\n",
    "\n",
    "for (u, v), w in edge_dict.items():\n",
    "    G.add_edge(u, v, weight=w)\n",
    "\n",
    "G.remove_nodes_from(list(nx.isolates(G)))"
   ]
  },
  {
   "cell_type": "markdown",
   "metadata": {},
   "source": [
    "Same but with Shelf:"
   ]
  },
  {
   "cell_type": "code",
   "execution_count": 12,
   "metadata": {},
   "outputs": [],
   "source": [
    "import networkx as nx\n",
    "\n",
    "G = nx.Graph()\n",
    "\n",
    "G.add_nodes_from(VOCAB)\n",
    "\n",
    "with shelve.open('edges') as db:\n",
    "    for e, w in db.items():\n",
    "        u, v = e.split(',')\n",
    "        G.add_edge(u, v, weight=w)\n",
    "\n",
    "G.remove_nodes_from(list(nx.isolates(G)))"
   ]
  },
  {
   "cell_type": "markdown",
   "metadata": {},
   "source": [
    "## Viz\n",
    "\n",
    "- network diagram of paths\n",
    "- ribbons of time"
   ]
  },
  {
   "cell_type": "code",
   "execution_count": 14,
   "metadata": {},
   "outputs": [
    {
     "data": {
      "image/png": "[encoded data removed]",
      "text/plain": [
       "<Figure size 432x288 with 1 Axes>"
      ]
     },
     "metadata": {},
     "output_type": "display_data"
    }
   ],
   "source": [
    "%matplotlib inline\n",
    "import matplotlib.pyplot as plt\n",
    "\n",
    "\n",
    "edges = G.edges()\n",
    "weights = [G[u][v]['weight'] for u,v in edges]\n",
    "\n",
    "params = {\n",
    "    'node_size': 20,\n",
    "    'with_labels': True,\n",
    "    'width': weights,\n",
    "}\n",
    "\n",
    "pos = nx.spring_layout(G)\n",
    "\n",
    "fig = plt.figure()\n",
    "nx.draw(G, pos, **params)"
   ]
  },
  {
   "cell_type": "markdown",
   "metadata": {},
   "source": [
    "## Ribbons"
   ]
  },
  {
   "cell_type": "code",
   "execution_count": null,
   "metadata": {},
   "outputs": [],
   "source": []
  }
 ],
 "metadata": {
  "kernelspec": {
   "display_name": "py37",
   "language": "python",
   "name": "py37"
  },
  "language_info": {
   "codemirror_mode": {
    "name": "ipython",
    "version": 3
   },
   "file_extension": ".py",
   "mimetype": "text/x-python",
   "name": "python",
   "nbconvert_exporter": "python",
   "pygments_lexer": "ipython3",
   "version": "3.7.1"
  }
 },
 "nbformat": 4,
 "nbformat_minor": 2
}
